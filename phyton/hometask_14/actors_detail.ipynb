{
 "cells": [
  {
   "cell_type": "code",
   "execution_count": null,
   "metadata": {},
   "outputs": [],
   "source": [
    "import json\n",
    "import os\n",
    "import requests\n",
    "\n",
    "columns = 'id,name,birth_year,death_year,nationality\\n'\n",
    "with open('actors.json', 'r') as f:\n",
    "    data = json.load(f)\n",
    "for i in data:\n",
    "    id = i['id']\n",
    "    name = i['name']\n",
    "    birth_year = i['birth_year']\n",
    "    death_year = i.get('death_year', 'no info')\n",
    "    nationality = i['nationality']\n",
    "    actor_image = i['image']\n",
    "    folder_path = f'Project\\{name}'\n",
    "    csv_file_path = f'{folder_path}\\{name}.csv'\n",
    "    jpeg_file_path = f'{folder_path}\\{name}.jpeg'\n",
    "    os.makedirs(folder_path, exist_ok=True)\n",
    "    with open(csv_file_path, 'w') as f:\n",
    "        f.write(columns)\n",
    "        values = f'{id},{name},{birth_year},{death_year},{nationality}'\n",
    "        f.write(values)\n",
    "    with open(jpeg_file_path, 'wb') as f:\n",
    "        response = requests.get(actor_image)\n",
    "        f.write(response.content)"
   ]
  }
 ],
 "metadata": {
  "language_info": {
   "name": "python"
  }
 },
 "nbformat": 4,
 "nbformat_minor": 2
}
