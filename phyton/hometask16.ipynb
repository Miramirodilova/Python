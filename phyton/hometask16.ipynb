{
 "cells": [
  {
   "cell_type": "markdown",
   "metadata": {},
   "source": [
    "ex 1"
   ]
  },
  {
   "cell_type": "code",
   "execution_count": 1,
   "metadata": {},
   "outputs": [
    {
     "name": "stdout",
     "output_type": "stream",
     "text": [
      "Current thread name: Thread-3 (print_theard)\n",
      "Current thread name: Thread-4 (print_theard)\n",
      "Current thread name: Thread-5 (print_theard)\n",
      "Current thread name: Thread-6 (print_theard)\n",
      "Current thread name: Thread-7 (print_theard)\n",
      "Current thread name: Thread-8 (print_theard)\n",
      "Current thread name: Thread-9 (print_theard)\n"
     ]
    }
   ],
   "source": [
    "import threading\n",
    "def print_theard():\n",
    "    print(\"Current thread name:\", threading.current_thread().name)\n",
    "# Create multiple threads\n",
    "threads = []\n",
    "for i in range(7):\n",
    "    thread = threading.Thread(target=print_theard)\n",
    "    threads.append(thread)\n",
    "    thread.start()\n",
    "\n",
    "for thread in threads:\n",
    "    thread.join()"
   ]
  },
  {
   "cell_type": "markdown",
   "metadata": {},
   "source": [
    "ex 2"
   ]
  },
  {
   "cell_type": "code",
   "execution_count": 2,
   "metadata": {},
   "outputs": [
    {
     "name": "stderr",
     "output_type": "stream",
     "text": [
      "<>:9: SyntaxWarning: invalid escape sequence '\\w'\n",
      "<>:10: SyntaxWarning: invalid escape sequence '\\G'\n",
      "<>:11: SyntaxWarning: invalid escape sequence '\\e'\n",
      "<>:9: SyntaxWarning: invalid escape sequence '\\w'\n",
      "<>:10: SyntaxWarning: invalid escape sequence '\\G'\n",
      "<>:11: SyntaxWarning: invalid escape sequence '\\e'\n",
      "C:\\Users\\Мохира\\AppData\\Local\\Temp\\ipykernel_2144\\1444650221.py:9: SyntaxWarning: invalid escape sequence '\\w'\n",
      "  {\"url\": \"https://en.wikipedia.org/wiki/British_logistics_in_the_Normandy_campaign\", \"filename\": \"i:\\wfile1\"},\n",
      "C:\\Users\\Мохира\\AppData\\Local\\Temp\\ipykernel_2144\\1444650221.py:10: SyntaxWarning: invalid escape sequence '\\G'\n",
      "  {\"url\": \"https://en.wikipedia.org/wiki/Graph_(abstract_data_type)\", \"filename\": \"i:\\Graph_abstract_data_type\"},\n",
      "C:\\Users\\Мохира\\AppData\\Local\\Temp\\ipykernel_2144\\1444650221.py:11: SyntaxWarning: invalid escape sequence '\\e'\n",
      "  {\"url\": \"https://example.com/\", \"filename\": \"i:\\example\"}\n"
     ]
    },
    {
     "name": "stdout",
     "output_type": "stream",
     "text": [
      "\n",
      "Downloading i:\\wfile1 from https://en.wikipedia.org/wiki/British_logistics_in_the_Normandy_campaign...\n",
      "\n",
      "Downloading i:\\Graph_abstract_data_type from https://en.wikipedia.org/wiki/Graph_(abstract_data_type)...\n",
      "\n",
      "Downloading i:\\example from https://example.com/...\n"
     ]
    },
    {
     "name": "stderr",
     "output_type": "stream",
     "text": [
      "Exception in thread Thread-11 (down_file):\n",
      "Traceback (most recent call last):\n",
      "  File \"c:\\Users\\Мохира\\AppData\\Local\\Programs\\Python\\Python312\\Lib\\threading.py\", line 1075, in _bootstrap_inner\n",
      "    self.run()\n",
      "  File \"C:\\Users\\Мохира\\AppData\\Roaming\\Python\\Python312\\site-packages\\ipykernel\\ipkernel.py\", line 766, in run_closure\n",
      "    _threading_Thread_run(self)\n",
      "  File \"c:\\Users\\Мохира\\AppData\\Local\\Programs\\Python\\Python312\\Lib\\threading.py\", line 1012, in run\n",
      "    self._target(*self._args, **self._kwargs)\n",
      "  File \"C:\\Users\\Мохира\\AppData\\Local\\Temp\\ipykernel_2144\\1444650221.py\", line 5, in down_file\n",
      "  File \"c:\\Users\\Мохира\\AppData\\Local\\Programs\\Python\\Python312\\Lib\\urllib\\request.py\", line 250, in urlretrieve\n",
      "    tfp = open(filename, 'wb')\n",
      "          ^^^^^^^^^^^^^^^^^^^^\n",
      "FileNotFoundError: [Errno 2] No such file or directory: 'i:\\\\Graph_abstract_data_type'\n",
      "Exception in thread Thread-10 (down_file):\n",
      "Traceback (most recent call last):\n",
      "  File \"c:\\Users\\Мохира\\AppData\\Local\\Programs\\Python\\Python312\\Lib\\threading.py\", line 1075, in _bootstrap_inner\n",
      "    self.run()\n",
      "  File \"C:\\Users\\Мохира\\AppData\\Roaming\\Python\\Python312\\site-packages\\ipykernel\\ipkernel.py\", line 766, in run_closure\n",
      "    _threading_Thread_run(self)\n",
      "  File \"c:\\Users\\Мохира\\AppData\\Local\\Programs\\Python\\Python312\\Lib\\threading.py\", line 1012, in run\n",
      "    self._target(*self._args, **self._kwargs)\n",
      "  File \"C:\\Users\\Мохира\\AppData\\Local\\Temp\\ipykernel_2144\\1444650221.py\", line 5, in down_file\n",
      "  File \"c:\\Users\\Мохира\\AppData\\Local\\Programs\\Python\\Python312\\Lib\\urllib\\request.py\", line 250, in urlretrieve\n",
      "    tfp = open(filename, 'wb')\n",
      "          ^^^^^^^^^^^^^^^^^^^^\n",
      "FileNotFoundError: [Errno 2] No such file or directory: 'i:\\\\wfile1'\n",
      "Exception in thread Thread-12 (down_file):\n",
      "Traceback (most recent call last):\n",
      "  File \"c:\\Users\\Мохира\\AppData\\Local\\Programs\\Python\\Python312\\Lib\\threading.py\", line 1075, in _bootstrap_inner\n",
      "    self.run()\n",
      "  File \"C:\\Users\\Мохира\\AppData\\Roaming\\Python\\Python312\\site-packages\\ipykernel\\ipkernel.py\", line 766, in run_closure\n",
      "    _threading_Thread_run(self)\n",
      "  File \"c:\\Users\\Мохира\\AppData\\Local\\Programs\\Python\\Python312\\Lib\\threading.py\", line 1012, in run\n",
      "    self._target(*self._args, **self._kwargs)\n",
      "  File \"C:\\Users\\Мохира\\AppData\\Local\\Temp\\ipykernel_2144\\1444650221.py\", line 5, in down_file\n",
      "  File \"c:\\Users\\Мохира\\AppData\\Local\\Programs\\Python\\Python312\\Lib\\urllib\\request.py\", line 250, in urlretrieve\n",
      "    tfp = open(filename, 'wb')\n",
      "          ^^^^^^^^^^^^^^^^^^^^\n",
      "FileNotFoundError: [Errno 2] No such file or directory: 'i:\\\\example'\n"
     ]
    }
   ],
   "source": [
    "import threading\n",
    "import urllib.request\n",
    "def down_file(url, filename):\n",
    "    print(f\"\\nDownloading {filename} from {url}...\")\n",
    "    urllib.request.urlretrieve(url, filename)\n",
    "    print(f\"\\n{filename} downloaded successfully.\")\n",
    "\n",
    "files_to_download = [\n",
    "    {\"url\": \"https://en.wikipedia.org/wiki/British_logistics_in_the_Normandy_campaign\", \"filename\": \"i:\\wfile1\"},\n",
    "    {\"url\": \"https://en.wikipedia.org/wiki/Graph_(abstract_data_type)\", \"filename\": \"i:\\Graph_abstract_data_type\"},\n",
    "    {\"url\": \"https://example.com/\", \"filename\": \"i:\\example\"}\n",
    "]\n",
    "\n",
    "threads = []\n",
    "\n",
    "for file_info in files_to_download:\n",
    "    thread = threading.Thread(\n",
    "        target=down_file,\n",
    "        args=(file_info[\"url\"], file_info[\"filename\"])\n",
    "    )\n",
    "    thread.start()\n",
    "    threads.append(thread)\n",
    "\n",
    "for thread in threads:\n",
    "    thread.join()"
   ]
  },
  {
   "cell_type": "markdown",
   "metadata": {},
   "source": [
    "ex 3"
   ]
  },
  {
   "cell_type": "code",
   "execution_count": null,
   "metadata": {},
   "outputs": [],
   "source": [
    "import threading\n",
    "def even_numbers():\n",
    "    print(\"List of even numbers:\")\n",
    "    for i in range(30, 51, 2):\n",
    "        print(i, end = \" \")\n",
    "\n",
    "def odd_numbers():\n",
    "    print(\"\\nList of odd numbers:\")\n",
    "    for i in range(31, 51, 2):\n",
    "        print(i, end = \" \")\n",
    "\n",
    "even_thread = threading.Thread(target=even_numbers)\n",
    "odd_thread = threading.Thread(target=odd_numbers)\n",
    "even_thread.start()\n",
    "odd_thread.start()\n",
    "even_thread.join()\n",
    "odd_thread.join()"
   ]
  },
  {
   "cell_type": "markdown",
   "metadata": {},
   "source": [
    "ex 4"
   ]
  },
  {
   "cell_type": "code",
   "execution_count": null,
   "metadata": {},
   "outputs": [],
   "source": [
    "import threading\n",
    "\n",
    "def factorial(n):\n",
    "    result = 1\n",
    "    for i in range(1, n+1):\n",
    "        result *= i\n",
    "    return result\n",
    "\n",
    "def calculate_factorial(n):\n",
    "    print(f\"\\nCalculating factorial of {n} in thread {threading.current_thread().name}\")\n",
    "    result = factorial(n)\n",
    "    print(f\"Factorial of {n} is {result} in thread {threading.current_thread().name}\")\n",
    "\n",
    "n = 12\n",
    "\n",
    "thread1 = threading.Thread(target=calculate_factorial, args=(n,))\n",
    "thread2 = threading.Thread(target=calculate_factorial, args=(n,))\n",
    "\n",
    "thread1.start()\n",
    "thread2.start()\n",
    "\n",
    "thread1.join()\n",
    "thread2.join()"
   ]
  },
  {
   "cell_type": "markdown",
   "metadata": {},
   "source": [
    "ex 7"
   ]
  },
  {
   "cell_type": "code",
   "execution_count": null,
   "metadata": {},
   "outputs": [],
   "source": [
    "import requests\n",
    "import threading\n",
    "def make_request(url):\n",
    "    response = requests.get(url)\n",
    "    print(f\"Response from {url}: {response.status_code}\")\n",
    "# List of URLs to make requests to\n",
    "urls = [\n",
    "    \"https://www.example.com\",\n",
    "    \"https://www.google.com\",\n",
    "    \"https://www.wikipedia.org\",\n",
    "    \"https://www.python.org\"\n",
    "]\n",
    "# Create and start threads for each URL\n",
    "threads = []\n",
    "for url in urls:\n",
    "    thread = threading.Thread(target=make_request, args=(url,))\n",
    "    thread.start()\n",
    "    threads.append(thread)\n",
    "# Wait for all threads to finish\n",
    "for thread in threads:\n",
    "    thread.join()"
   ]
  },
  {
   "cell_type": "markdown",
   "metadata": {},
   "source": [
    "ex 7"
   ]
  },
  {
   "cell_type": "code",
   "execution_count": null,
   "metadata": {},
   "outputs": [],
   "source": [
    "import requests\n",
    "import threading\n",
    "def request(url):\n",
    "    response = requests.get(url)\n",
    "    print(f\"Response from {url}: {response.status_code}\")\n",
    "\n",
    "urls = [\n",
    "    \"https://www.example.com\",\n",
    "    \"https://www.google.com\",\n",
    "    \"https://www.wikipedia.org\",\n",
    "    \"https://www.python.org\"\n",
    "]\n",
    "\n",
    "threads = []\n",
    "for url in urls:\n",
    "    thread = threading.Thread(target=make_request, args=(url,))\n",
    "    thread.start()\n",
    "    threads.append(thread)\n",
    "\n",
    "for thread in threads:\n",
    "    thread.join()"
   ]
  }
 ],
 "metadata": {
  "kernelspec": {
   "display_name": "Python 3",
   "language": "python",
   "name": "python3"
  },
  "language_info": {
   "codemirror_mode": {
    "name": "ipython",
    "version": 3
   },
   "file_extension": ".py",
   "mimetype": "text/x-python",
   "name": "python",
   "nbconvert_exporter": "python",
   "pygments_lexer": "ipython3",
   "version": "3.12.6"
  }
 },
 "nbformat": 4,
 "nbformat_minor": 2
}
