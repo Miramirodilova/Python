{
 "cells": [
  {
   "cell_type": "code",
   "execution_count": null,
   "metadata": {},
   "outputs": [],
   "source": [
    "#exercise 1\n",
    "\n",
    "\n",
    "scores = [('Mike', 75), ('Joe', 90), ('Beck', 85)]\n",
    "\n",
    "students_above_80 = [name for name, score in scores if score > 80]\n",
    "\n",
    "print(students_above_80)\n"
   ]
  },
  {
   "cell_type": "code",
   "execution_count": null,
   "metadata": {},
   "outputs": [],
   "source": [
    "#task 2\n",
    "\n",
    "def list_with_max_sum(tup):\n",
    " \n",
    "    return max(tup, key=sum)\n",
    "\n",
    "input_tuple = ([1, 2], [3, 4], [5, 6, 7])\n",
    "\n",
    "result = list_with_max_sum(input_tuple)\n",
    "\n",
    "print(result)\n"
   ]
  },
  {
   "cell_type": "code",
   "execution_count": null,
   "metadata": {},
   "outputs": [],
   "source": [
    "#task 3\n",
    "\n",
    "people = [('Mike', 25), ('Joe', 31), ('Beck', 40)]\n",
    "\n",
    "names_in_range = [name for name, age in people if 30 < age < 50]\n",
    "\n",
    "print(names_in_range)\n"
   ]
  },
  {
   "cell_type": "code",
   "execution_count": null,
   "metadata": {},
   "outputs": [],
   "source": [
    "#task 4\n",
    "\n",
    "def even_odd_labels(numbers):\n",
    "    return [(num, 'Even' if num % 2 == 0 else 'Odd') for num in numbers]\n",
    "\n",
    "input_list = [1, 2, 3, 4]\n",
    "\n",
    "result = even_odd_labels(input_list)\n",
    "\n",
    "print(result)\n"
   ]
  },
  {
   "cell_type": "code",
   "execution_count": null,
   "metadata": {},
   "outputs": [],
   "source": [
    "#task 5\n",
    "\n",
    "def longest_string_with_largest_integer(tuples):\n",
    "    return max(tuples, key=lambda x: (len(x[0]), x[1]))\n",
    "\n",
    "input_list = [('apple', 5), ('banana', 4), ('cherry', 6)]\n",
    "\n",
    "result = longest_string_with_largest_integer(input_list)\n",
    "\n",
    "print(result)"
   ]
  },
  {
   "cell_type": "code",
   "execution_count": null,
   "metadata": {},
   "outputs": [],
   "source": [
    "#task 6\n",
    "\n",
    "def sort_events_by_date(tuples):\n",
    "\n",
    "    return sorted(tuples, key=lambda x: x[0], reverse=True)\n",
    "\n",
    "input_list = [('2024-12-01', 'Event A'), ('2025-01-01', 'Event B')]\n",
    "\n",
    "result = sort_events_by_date(input_list)\n",
    "\n",
    "print(result)"
   ]
  },
  {
   "cell_type": "code",
   "execution_count": null,
   "metadata": {},
   "outputs": [],
   "source": [
    "#task 7\n",
    "\n",
    "def highest_score(tuples):\n",
    "    return max(tuples, key=lambda x: x[1])\n",
    "\n",
    "input_list = [('Mike', 75), ('Joe', 90), ('Beck', 85)]\n",
    "\n",
    "result = highest_score(input_list)\n",
    "\n",
    "# Print the result\n",
    "print(result)"
   ]
  },
  {
   "cell_type": "code",
   "execution_count": null,
   "metadata": {},
   "outputs": [],
   "source": [
    "#task 8\n",
    "\n",
    "def products_in_price_range(products):\n",
    "    return [product for product in products if 50 <= product[1] <= 100]\n",
    "input_list = [('product1', 45), ('product2', 60), ('product3', 120)]\n",
    "result = products_in_price_range(input_list)\n",
    "print(result)"
   ]
  },
  {
   "cell_type": "code",
   "execution_count": null,
   "metadata": {},
   "outputs": [],
   "source": [
    "#task 9\n",
    "\n",
    "def oldest_person(people):\n",
    "    return max(people, key=lambda x: x[1])[0]\n",
    "input_list = [('Mike', 25), ('Joe', 31), ('Beck', 40)]\n",
    "result = oldest_person(input_list)\n",
    "print(result)\n"
   ]
  },
  {
   "cell_type": "code",
   "execution_count": null,
   "metadata": {},
   "outputs": [],
   "source": [
    "#task 10\n",
    "\n",
    "def students_above_average(students):\n",
    "    return [name for name, grades in students if sum(grades) / len(grades) > 80]\n",
    "input_list = [('Mike', [85, 75, 90]), ('Joe', [70, 80, 60])]\n",
    "result = students_above_average(input_list)\n",
    "print(result)\n"
   ]
  }
 ],
 "metadata": {
  "language_info": {
   "name": "python"
  }
 },
 "nbformat": 4,
 "nbformat_minor": 2
}
