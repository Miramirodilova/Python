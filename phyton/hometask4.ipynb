{
 "cells": [
  {
   "cell_type": "markdown",
   "metadata": {},
   "source": [
    "home task 4 "
   ]
  },
  {
   "cell_type": "code",
   "execution_count": null,
   "metadata": {},
   "outputs": [],
   "source": [
    "food =[\"rice\", \"beans\"]\n",
    "food.append(\"Broccoli\")\n",
    "print (food)\n",
    "food.extend([\"bread\", \"pizza\"])\n",
    "print (food)\n",
    "print(food[:2])\n",
    "print(food[-1])\n",
    "breakfast =\"eggs, fruit, orange juice\".split(\", \")\n",
    "print (breakfast)\n",
    "print(len(breakfast))\n",
    "lengths = [len(item) for item in breakfast]\n",
    "print (lengths)"
   ]
  }
 ],
 "metadata": {
  "language_info": {
   "name": "python"
  }
 },
 "nbformat": 4,
 "nbformat_minor": 2
}
